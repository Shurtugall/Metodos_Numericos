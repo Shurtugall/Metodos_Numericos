{
 "cells": [
  {
   "cell_type": "markdown",
   "metadata": {},
   "source": [
    "# Trabalho T1 - Erros em Aproximações numéricas\n",
    "\n",
    "### MTM 224 - Métodos Numéricos Computacionais\n",
    "### Eng. Química(305) - Turma 14\n",
    "\n",
    "*Nomes*: David Disconzi, 201620715; Gabriel Righi, 201612819; Júlia Pesarico, 20182064.\n",
    "\n"
   ]
  },
  {
   "cell_type": "markdown",
   "metadata": {},
   "source": [
    "---\n",
    "## Questão 1\n",
    "Determinar o valor de x que satisfaz a equação."
   ]
  },
  {
   "cell_type": "code",
   "execution_count": 11,
   "metadata": {},
   "outputs": [
    {
     "name": "stdout",
     "output_type": "stream",
     "text": [
      "0 ªIteração -> Valor de x = 0.039753177\n",
      "\t\tErro:  0.2577611002737755\n",
      "1 ªIteração -> Valor de x = 0.037811002\n",
      "\t\tErro:  0.05136534847070694\n",
      "2 ªIteração -> Valor de x = 0.038357994\n",
      "\t\tErro:  0.014260190325714546\n",
      "3 ªIteração -> Valor de x = 0.038418498\n",
      "\t\tErro:  0.0015748486855598318\n",
      "4 ªIteração -> Valor de x = 0.038392003\n",
      "\t\tErro:  0.0006900991460630069\n",
      "5 ªIteração -> Valor de x = 0.038390518\n",
      "\t\tErro:  3.8683729629490414e-05\n"
     ]
    }
   ],
   "source": [
    "import math\n",
    "\n",
    "def frac_molar():\n",
    "    err = 10.0\n",
    "    x0 = 0\n",
    "    x1 = 0.05\n",
    "    count = 0\n",
    "\n",
    "    f = lambda x: (x/(x-1)) * (math.sqrt(6)/(2+x)) - 0.05\n",
    "    \n",
    "    while err> 0.0001:\n",
    "        x = abs((x0*f(x1) - x1*f(x0))/(f(x1)-f(x0)))   \n",
    "        err = abs(x-x1)/abs(x)      \n",
    "        x0 = x1\n",
    "        x1 = x\n",
    "    \n",
    "        print (count, \"ªIteração -> Valor de x = %.9f\"%x)\n",
    "        print (\"\\t\\tErro: \", err)\n",
    "        count = count + 1\n",
    "        \n",
    "frac_molar()"
   ]
  },
  {
   "cell_type": "markdown",
   "metadata": {},
   "source": [
    "###### Comentario\n",
    "Como vimos pelo código, utilizando o método das Secantes e com uma precisão de ε = ${10}^{-4}$ com poucas iterações foi possível encontrar o valor desejado."
   ]
  },
  {
   "cell_type": "markdown",
   "metadata": {},
   "source": [
    "---\n",
    "## Questão 2\n",
    "Determinar o valor de h utilizando o método do ponto-fixo com precisão ε = ${10}^{-5}$"
   ]
  },
  {
   "cell_type": "code",
   "execution_count": 7,
   "metadata": {},
   "outputs": [
    {
     "name": "stdout",
     "output_type": "stream",
     "text": [
      "----------------------------- \n",
      "Número da iteração:  1\n",
      "Valor de h:  1.0471975511965976\n",
      "Erro:  0.04507034144862788\n",
      "----------------------------- \n",
      "Número da iteração:  2\n",
      "Valor de h:  1.1212802412882463\n",
      "Erro:  0.06606973650631229\n",
      "----------------------------- \n",
      "Número da iteração:  3\n",
      "Valor de h:  1.2367700616187771\n",
      "Erro:  0.09338018756644956\n",
      "----------------------------- \n",
      "Número da iteração:  4\n",
      "Valor de h:  1.41216518743116\n",
      "Erro:  0.1242029809072411\n",
      "----------------------------- \n",
      "Número da iteração:  5\n",
      "Valor de h:  1.6579634182898768\n",
      "Erro:  0.14825310869177552\n",
      "----------------------------- \n",
      "Número da iteração:  6\n",
      "Valor de h:  1.931580731043027\n",
      "Erro:  0.14165460876460528\n",
      "----------------------------- \n",
      "Número da iteração:  7\n",
      "Valor de h:  2.087209596666246\n",
      "Erro:  0.07456312287553386\n",
      "----------------------------- \n",
      "Número da iteração:  8\n",
      "Valor de h:  2.082101099987655\n",
      "Erro:  0.002453529599797687\n",
      "----------------------------- \n",
      "Número da iteração:  9\n",
      "Valor de h:  2.083517242659806\n",
      "Erro:  0.0006796884821281578\n",
      "----------------------------- \n",
      "Número da iteração:  10\n",
      "Valor de h:  2.083133574969802\n",
      "Erro:  0.00018417815094240255\n",
      "----------------------------- \n",
      "Número da iteração:  11\n",
      "Valor de h:  2.0832381937612476\n",
      "Erro:  5.0219313258957546e-05\n",
      "----------------------------- \n",
      "Número da iteração:  12\n",
      "Valor de h:  2.0832097159084877\n",
      "Erro:  1.3670180463576504e-05\n",
      "----------------------------- \n",
      "Número da iteração:  13\n",
      "Valor de h:  2.0832174714375227\n",
      "Erro:  3.722860978901531e-06\n",
      "--------------------------\n",
      "\n",
      " Final do laço. Valor de h: 2.0832174714375227\n"
     ]
    }
   ],
   "source": [
    "import math\n",
    "\n",
    "def volume():\n",
    "    r = 1.0\n",
    "    V = 0.5\n",
    "    #valor inicial de h definido como 1\n",
    "    h = 1.0\n",
    "    h_ant = h\n",
    "    err = 10\n",
    "    #contador de iterações\n",
    "    count = 0;\n",
    "    f = lambda h: ((math.pi*math.pow(h,2) * (3*r - h))/3)*V\n",
    "    while(err > math.pow(10, -5)):\n",
    "        h_ant = h\n",
    "        h = f(h)\n",
    "        err = abs(h - h_ant)/abs(h)\n",
    "        count = count + 1\n",
    "        \n",
    "        print(\"----------------------------- \\nNúmero da iteração: \", count)\n",
    "        print(\"Valor de h: \", h)\n",
    "        print(\"Erro: \", err)\n",
    "\n",
    "    print(\"--------------------------\")        \n",
    "    print(\"\\n Final do laço. Valor de h:\", h)\n",
    "    \n",
    "    \n",
    "volume()"
   ]
  },
  {
   "cell_type": "markdown",
   "metadata": {},
   "source": [
    "###### Comentario:\n",
    "Após 14 iterações utilizando o método do ponto-fixo, atingimos o erro solicitado, e o valor final de h encontrado foi: 2.0832174714375227"
   ]
  },
  {
   "cell_type": "markdown",
   "metadata": {},
   "source": [
    "---\n",
    "## Questão 3\n",
    "Determinar o valor de h1 utilizando o método da bisseção"
   ]
  },
  {
   "cell_type": "code",
   "execution_count": 2,
   "metadata": {
    "scrolled": true
   },
   "outputs": [
    {
     "name": "stdout",
     "output_type": "stream",
     "text": [
      "Metodo da Bissecao:\n",
      "Numero de Iterações necessárias:  29  -> h1 =  0.875777455046773\n",
      "\n",
      "Metodo da Secante:\n",
      "Iteração:  0  x =  0.8  erro =  0.24999999999999994\n",
      "Iteração:  1  x =  0.8708487084870848  erro =  0.08135593220338976\n",
      "Iteração:  2  x =  0.8759824097788258  erro =  0.00586050728237471\n",
      "Iteração:  3  x =  0.8757769159284954  erro =  0.00023464177531164364\n",
      "Iteração:  4  x =  0.8757774553079667  erro =  6.158864538476374e-07\n"
     ]
    }
   ],
   "source": [
    "import math\n",
    "\n",
    "\n",
    "def Volume(R,r,h):\n",
    "    return(math.pi*h/3)*(math.pow(R,2) + math.pow(r,2) + R*r)\n",
    "    \n",
    "def Emp(y):\n",
    "    return 200*Volume(1,0.5,1)-1000*Volume(1,(0.5+y-0.5*y),(1-y))\n",
    "\n",
    "def bissecao():\n",
    "    \n",
    "    a_bissecao = 0.0\n",
    "    b_bissecao = 1.0\n",
    "    err_bissecao = 10.0\n",
    "    iterator = 0\n",
    "    \n",
    "    while err_bissecao > 0.000001:\n",
    "        x_medio = (a_bissecao + b_bissecao)/2\n",
    "    \n",
    "        if Emp(a_bissecao)*Emp(x_medio) < 0:\n",
    "            b_bissecao = x_medio\n",
    "        else:\n",
    "            a_bissecao = x_medio\n",
    "        \n",
    "        err_bissecao = abs(Emp(x_medio))\n",
    "        iterator = iterator + 1\n",
    "    \n",
    "    print(\"Numero de Iterações necessárias: \", iterator, \" -> h1 = \", x_medio)\n",
    "    \n",
    "def secante():\n",
    "    \n",
    "    limite = 0.0001  \n",
    "    a_secante =0\n",
    "    b_secante =1\n",
    "    err_secante = 10.0\n",
    "    count = 0\n",
    "    \n",
    "    while(err_secante> limite):\n",
    "        aux = b_secante - ((b_secante - a_secante)/(Emp(b_secante) - Emp(a_secante)))*Emp(b_secante)\n",
    "        a_secante = b_secante\n",
    "        b_secante =  aux\n",
    "        err_secante = abs(aux - a_secante)/abs(aux)\n",
    "        print (\"Iteração: \", count, \" x = \", aux, \" erro = \", err_secante)\n",
    "        count = count + 1\n",
    "\n",
    "\n",
    "print(\"Metodo da Bissecao:\")     \n",
    "bissecao()\n",
    "print(\"\\nMetodo da Secante:\")\n",
    "secante()\n",
    "    "
   ]
  },
  {
   "cell_type": "markdown",
   "metadata": {},
   "source": [
    "###### Comentario\n",
    "Como é possível perceber, a diferença do número de iterações necessárias para atingir o valor esperado é impactante se comparado o Método da Bissecao com o Método das Secantes. Assim, enquanto que o método da Bissecao levou 30 iterações dentro do laço While, o Método das Secantes com 5 iterações conseguiu o mesmo resultado com a precisão necessária. Logo, é válido afirmar que o Método das Secantes para este caso, se torna mais viável, pois não consome muito tempo de processamento da máquina."
   ]
  },
  {
   "cell_type": "markdown",
   "metadata": {},
   "source": [
    "---\n",
    "## Questão 4\n",
    "Determinar o ângulo $\\theta$ de forma que a área S da seção seja um terço da área do círculo utilizando os métodos da bisseção e do ponto-fixo"
   ]
  },
  {
   "cell_type": "code",
   "execution_count": 4,
   "metadata": {},
   "outputs": [
    {
     "name": "stdout",
     "output_type": "stream",
     "text": [
      "0 ºIteração -> Valor de x =  135.0\n",
      "1 ºIteração -> Valor de x =  157.5\n",
      "2 ºIteração -> Valor de x =  168.75\n",
      "3 ºIteração -> Valor de x =  174.375\n",
      "4 ºIteração -> Valor de x =  177.1875\n",
      "5 ºIteração -> Valor de x =  178.59375\n",
      "6 ºIteração -> Valor de x =  179.296875\n",
      "7 ºIteração -> Valor de x =  179.6484375\n",
      "8 ºIteração -> Valor de x =  179.82421875\n",
      "9 ºIteração -> Valor de x =  179.912109375\n",
      "10 ºIteração -> Valor de x =  179.9560546875\n",
      "11 ºIteração -> Valor de x =  179.97802734375\n",
      "12 ºIteração -> Valor de x =  179.989013671875\n",
      "\n",
      "Valor do angulo theta:  179.989013671875\n"
     ]
    }
   ],
   "source": [
    "import math\n",
    "\n",
    "def sec_circular():\n",
    "    \n",
    "    #definição de variáveis\n",
    "    a=90    \n",
    "    b=180\n",
    "    err = 10\n",
    "    x_ant = 0\n",
    "    count = 0\n",
    "    \n",
    "    while err > 0.0001:\n",
    "        x = (a+b)/2\n",
    "        result = (math.sin(x) + ((2*math.pi)/3)) * (math.sin(a) + ((2*math.pi)/3))\n",
    "        if result < 0:\n",
    "            b = x\n",
    "        else:\n",
    "            a = x\n",
    "            err = abs(x - x_ant)/abs(x)\n",
    "            x_ant=x\n",
    "        \n",
    "        print(count, \"ªIteração -> Valor de x = \", x)\n",
    "        count = count + 1\n",
    "            \n",
    "    print(\"\\nValor do angulo theta: \", x)\n",
    "    \n",
    "sec_circular()\n"
   ]
  },
  {
   "cell_type": "markdown",
   "metadata": {},
   "source": [
    "###### Comentario\n",
    "Como é possível perceber, após 13 iteações finalmente o programa encontrou o valor do ângulo theta com a precisão desejada, que no caso foi setada para ε = ${10}^{-4}$"
   ]
  },
  {
   "cell_type": "markdown",
   "metadata": {},
   "source": [
    "---\n",
    "## Questão 5\n",
    "Determinar o valor da temperatura final da equação"
   ]
  },
  {
   "cell_type": "code",
   "execution_count": 1,
   "metadata": {},
   "outputs": [
    {
     "name": "stdout",
     "output_type": "stream",
     "text": [
      "Iteração  0 : x =  550.0\n",
      "Iteração  1 : x =  525.0\n",
      "Iteração  2 : x =  537.5\n",
      "Iteração  3 : x =  531.25\n",
      "Iteração  4 : x =  534.375\n",
      "Iteração  5 : x =  535.9375\n",
      "Iteração  6 : x =  535.15625\n",
      "Iteração  7 : x =  535.546875\n",
      "\n",
      "Resultado final:\n",
      "Numero de iterações: 7 \n",
      "Valor de Tf: 535.546875\n"
     ]
    }
   ],
   "source": [
    "import math\n",
    "\n",
    "def termodinamica():\n",
    "    \n",
    "    #Definição de valores para as variáveis:\n",
    "    R = 8.314\n",
    "    A = 1.702\n",
    "    B = 9.081 * (math.pow(10,-3))\n",
    "    C = -2.164 * (math.pow(10,-6))\n",
    "    n = 2.0\n",
    "    Ti = 300.0\n",
    "    Q = 20000.0\n",
    "    \n",
    "    f = lambda x: n*R*((A*(x - Ti)) + ((B/2)*(math.pow(x,2) - math.pow(Ti,2))+((C/3)*(math.pow(x,3) - math.pow(Ti,3)))))-Q\n",
    "    \n",
    "    err = 10.0\n",
    "    a = 500\n",
    "    b = 600\n",
    "    x_medio = 1.0\n",
    "    x_ant = 1.0\n",
    "    count = 0\n",
    "    \n",
    "    while err > 0.001:\n",
    "        x_medio = ((a+b)/2)\n",
    "        if((f(a) * f(x_medio)) < 0):\n",
    "            b = x_medio\n",
    "        else:\n",
    "            a = x_medio\n",
    "        print(\"Iteração \", count, \": x = \", x_medio)\n",
    "        err = abs(x_medio - x_ant)/abs(x_medio)\n",
    "        x_ant = x_medio\n",
    "        count = count+1\n",
    "        \n",
    "    print(\"\\nResultado final:\\nNumero de iterações:\", count-1, \"\\nValor de Tf:\", x_medio)\n",
    "    \n",
    "termodinamica()"
   ]
  },
  {
   "cell_type": "markdown",
   "metadata": {},
   "source": [
    "###### Comentário\n",
    "Usando o método da biseção, com a=500 e b=600 precisamos de 7 iterações para chegar na solução com erro menor que 0,001. Como é possível perceber, o valor da temperatura final Tf é 535.546875."
   ]
  }
 ],
 "metadata": {
  "kernelspec": {
   "display_name": "Python 3",
   "language": "python",
   "name": "python3"
  },
  "language_info": {
   "codemirror_mode": {
    "name": "ipython",
    "version": 3
   },
   "file_extension": ".py",
   "mimetype": "text/x-python",
   "name": "python",
   "nbconvert_exporter": "python",
   "pygments_lexer": "ipython3",
   "version": "3.7.3"
  }
 },
 "nbformat": 4,
 "nbformat_minor": 2
}
