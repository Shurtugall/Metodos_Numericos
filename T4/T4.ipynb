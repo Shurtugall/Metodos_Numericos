{
 "cells": [
  {
   "cell_type": "markdown",
   "metadata": {},
   "source": [
    "# Trabalho T4 - Integração Numérica e Sistemas Lineares\n",
    "\n",
    "### MTM 224 - Métodos Numéricos Computacionais\n",
    "### Eng. Química(305) - Turma 14\n",
    "\n",
    "*Nomes*: Gabriel Righi, 201612819; Júlia Pesarico, 20182064.\n"
   ]
  },
  {
   "cell_type": "markdown",
   "metadata": {},
   "source": [
    "---\n",
    "## Questão 1\n",
    "Use um programa em Python para integrar numericamente a função $$\\int_0^3 x^2 e^x\\,dx$$ usando a regra dos trapézios, a regra de 1/3 de Simpson e a regra de 3/8 de Simpson com 12 subintervalos. Compare dos resultados obtidos com a solução exata.\n",
    "\n",
    "**OBS**: a resolução foi feita em um único arquivo .py para evitar o excesso de código"
   ]
  },
  {
   "cell_type": "code",
   "execution_count": 7,
   "metadata": {},
   "outputs": [
    {
     "name": "stdout",
     "output_type": "stream",
     "text": [
      "Xi = [0.   0.25 0.5  0.75 1.   1.25 1.5  1.75 2.   2.25 2.5  2.75 3.  ]\n",
      "Yi = [0.00000000e+00 8.02515885e-02 4.12180318e-01 1.19081251e+00\n",
      " 2.71828183e+00 5.45366087e+00 1.00838004e+01 1.76234707e+01\n",
      " 2.95562244e+01 4.80316627e+01 7.61405873e+01 1.18297404e+02\n",
      " 1.80769832e+02]\n",
      "\n",
      "\n"
     ]
    },
    {
     "data": {
      "image/png": "[encoded data removed]",
      "text/plain": [
       "<Figure size 432x288 with 1 Axes>"
      ]
     },
     "metadata": {
      "needs_background": "light"
     },
     "output_type": "display_data"
    },
    {
     "name": "stdout",
     "output_type": "stream",
     "text": [
      "Regra dos Trapézios: 99.99331307969646 \n",
      "\n",
      "Regra 1/3 de Simpson: 98.44175237978553 \n",
      "\n",
      "Regra 3/8 de Simpson: 98.458927988704\n",
      "\n",
      "Valor exato: 98.4276846159383\n",
      "\n",
      "Erro utilizando a Regra 1/3 de Simpson 0.00014292486816198718\n"
     ]
    }
   ],
   "source": [
    "%matplotlib inline\n",
    "import numpy as np\n",
    "import matplotlib.pyplot as plt\n",
    "#Intervalos da integração\n",
    "a = 0\n",
    "b = 3\n",
    "\n",
    "#Número de subintervalos\n",
    "n = 12\n",
    "\n",
    "#Tamanho de cada subintervalo\n",
    "h = (b-a)/n\n",
    "\n",
    "#Integral dada no exercício\n",
    "def f(x):\n",
    "    return (x**2)*((np.e)**x)\n",
    "\n",
    "#Criando n+1 pontos igualmente espaçados\n",
    "X = np.linspace(a, b, n+1)\n",
    "Y = f(X)\n",
    "\n",
    "print(\"Xi =\", np.round(X,4))\n",
    "print(\"Yi =\", f(X))\n",
    "print(\"\\n\")\n",
    "\n",
    "#Grafico da função do exercício\n",
    "plt.plot(X, Y, \".\", X, f(X), \"-\") \n",
    "plt.grid()\n",
    "plt.show()\n",
    "\n",
    "#Regra dos trapézios\n",
    "It = (h/2)*(f(X[0]) + 2*np.sum(f(X[1:n:1])) + f(X[-1]))\n",
    "print(\"Regra dos Trapézios:\", It, \"\\n\")\n",
    "\n",
    "#Regra 1/3 de Simpson\n",
    "I1_3 = (h/3)*(f(X[0]) + 4*np.sum(f(X[1:n:2])) + 2*np.sum(f(X[2:n:2]))+ f(X[-1]))\n",
    "print(\"Regra 1/3 de Simpson:\", I1_3,\"\\n\")\n",
    "\n",
    "#Regra 3/8 de Simpson\n",
    "I3_8 = (3*h/8)*(f(X[0]) + 3*np.sum(f(X[1:n:3])+f(X[2:n:3])) + 2*np.sum(f(X[3:n:3]))+ f(X[-1]))\n",
    "print(\"Regra 3/8 de Simpson:\", I3_8)\n",
    "\n",
    "valor_exato = 98.4276846159383\n",
    "print(\"\\nValor exato:\", valor_exato)\n",
    "\n",
    "err = abs(valor_exato - I1_3)/abs(valor_exato)\n",
    "print(\"\\nErro utilizando a Regra 1/3 de Simpson\",err)"
   ]
  },
  {
   "cell_type": "markdown",
   "metadata": {},
   "source": [
    "**Observações obtidas:** Como é possível perceber pelos valores encontrados utilizando as 3 fórmulas, A Regra dos Trapézios é a que mais se distancia das demais, enquanto que o erro entre a Regra 1/3 de Simpson e 3/8 de Simpson é próxima de $10^{-2}$.\n",
    "Porém, utilizando o site do WolframAlpha, foi possível encontrar o valor exato para a equação como sendo _98.4276846159383_. Assim, para esse caso, a regra que mais se aproxima do valor exato é a Regra 1/3 de Simpson."
   ]
  },
  {
   "cell_type": "markdown",
   "metadata": {},
   "source": [
    "---\n",
    "## Questão 2\n",
    "A massa total de uma haste de densidade variável é dada por $$m = \\int_0^L p(x) Ac(x)\\,dx$$ em que $m$ é a massa, $p(x)$ é a densidade, $Ac(x)$ é a área da seção transversal, $x$ é distância ao longo da haste e $L$ é o comprimento total da haste. Os seguintes dados foram medidos para uma haste de 12m. Determine a massa em quilogramas usando integração numéria\n",
    "com as regras de 1/3.\n",
    "\n",
    "De acordo com os dados da tabela disponíveis do .pdf do trabalho, podemos resolver da seguinte forma:"
   ]
  },
  {
   "cell_type": "code",
   "execution_count": 8,
   "metadata": {},
   "outputs": [
    {
     "name": "stdout",
     "output_type": "stream",
     "text": [
      "O valor da massa em quilogramas é: 5.350439999999999\n"
     ]
    }
   ],
   "source": [
    "import numpy as np\n",
    "\n",
    "#Intervalos da integração\n",
    "a = 0\n",
    "b = 12\n",
    "\n",
    "#Número de subintervalos\n",
    "n = 6\n",
    "\n",
    "#Tamanho de cada subintervalo\n",
    "h = (b-a)/n\n",
    "\n",
    "#Valores da tabela disponibilizados em arrays\n",
    "p = np.array([4.00, 3.95, 3.80, 3.60, 3.41, 3.30, 3.20])\n",
    "Ac = np.array([100, 103, 110, 120, 133, 150, 171])\n",
    "\n",
    "#Calculo de m de acordo com a regra 1/3 de Simpson generalizada\n",
    "I = (h/3)*((p[0]*Ac[0]) + 4*np.sum(p[1:n:2]*Ac[1:n:2]) + 2*np.sum(p[2:n:2]*Ac[2:n:2])+ (p[-1]*Ac[-1]))\n",
    "\n",
    "print(\"O valor da massa em quilogramas é:\", I/1000)"
   ]
  },
  {
   "cell_type": "markdown",
   "metadata": {},
   "source": [
    "**Observações obtidas:** Setando os valores em arrays e aplicando a regra 1/3 de Simpson generalizada, foi possível obter o valor aproximado da massa em gramas. Assim, dividindo o valor por $10^{3}$, encontramos o valor em kg como foi solicitado na questão."
   ]
  },
  {
   "cell_type": "markdown",
   "metadata": {},
   "source": [
    "---\n",
    "## Questão 4\n",
    "Use um programa em Python para resolver o sistema disponibilizado no arquivo .pdf, utilizando decomposição\n",
    "LU, mostrando as matrizes L e U. Em seguida, use os programas apresentados em aula para resolver esse mesmo sistema\n",
    "por eliminação de Gauss e por algum método iterativo. Compare os resultados e comente."
   ]
  },
  {
   "cell_type": "code",
   "execution_count": 2,
   "metadata": {},
   "outputs": [
    {
     "name": "stdout",
     "output_type": "stream",
     "text": [
      "Matriz L:\n",
      "[[1.         0.         0.         0.         0.        ]\n",
      " [0.13442623 1.         0.         0.         0.        ]\n",
      " [0.08196721 0.20004263 1.         0.         0.        ]\n",
      " [0.68852459 0.57940933 0.02820305 1.         0.        ]\n",
      " [0.03278689 1.03678855 0.25266738 0.02998203 1.        ]] \n",
      "\n",
      "Matriz U:\n",
      "[[ 6.1         0.32        1.3         2.1         0.11      ]\n",
      " [ 0.          8.76698361  0.8352459   2.71770492  3.10521311]\n",
      " [ 0.          0.         14.92635783  3.484212    7.4698086 ]\n",
      " [ 0.          0.          0.         17.78116937  5.42440148]\n",
      " [ 0.          0.          0.          0.         14.82693256]] \n",
      "\n",
      " ----------------- \n",
      " Método da Eliminação de Gauss:\n",
      "[ 3.  2. -1.  1. -2.] \n",
      "\n",
      " ---------------- \n",
      " Metodo iterativo Jacobi-Richardson\n",
      "(2.7914, 2.0490, -0.8639, 1.5486, -2.6550)\n"
     ]
    }
   ],
   "source": [
    "import numpy as np\n",
    "from numpy import dot\n",
    "\n",
    "#Função que retorna as matrizes L e U\n",
    "def fatoracao_LU(A):\n",
    "    n = len(A)     \n",
    "    U = np.zeros((n,n))\n",
    "    L = np.identity(n)\n",
    "    for m in range(n):\n",
    "        for j in range(m, n):\n",
    "            U[m,j] = A[m,j] - np.sum(L[m,0:m] * U[0:m,j])\n",
    "        for i in range(m+1, n):\n",
    "            L[i,m] = (A[i,m] - np.sum(L[i,0:m] * U[0:m,m]))/U[m,m]\n",
    "    return L,U\n",
    "\n",
    "A = np.array([[6.1,0.32,1.3,2.1,0.11,19.52],\n",
    "              [0.82,8.81,1.01,3.,3.12,15.83],\n",
    "              [0.5,1.78,15.2,4.2,8.1,-22.14],\n",
    "              [4.2,5.3,1.8,20.9,7.51,27.28],\n",
    "              [0.2,9.1,4.68,4.3,20.1,-21.78]])\n",
    "\n",
    "L,U = fatoracao_LU(A)\n",
    "print (\"Matriz L:\")\n",
    "print (np.array(L), \"\\n\")\n",
    "print (\"Matriz U:\")\n",
    "print(np.array(U), \"\\n\\n ----------------- \\n Método da Eliminação de Gauss:\")\n",
    "\n",
    "#Função para executar a eliminação de Gauss\n",
    "def gaussElimin(a,b): \n",
    "    n = len(b) \n",
    "    for k in range(0,n-1): \n",
    "        for i in range(k+1,n): \n",
    "            if a[i][k] != 0.0: \n",
    "                lam = a [i][k]/a[k][k] \n",
    "                a[i][k+1:n] = a[i][k+1:n] - lam*a[k][k+1:n] \n",
    "                b[i] = b[i] - lam*b[k] \n",
    "    for k in range(n-1,-1,-1): \n",
    "        b[k] = (b[k] - dot(a[k][k+1:n],b[k+1:n]))/a[k][k] \n",
    "    return b\n",
    "\n",
    "#A mesma matriz anterior, mas dessa vez, foi separada a Matriz A da matriz b\n",
    "A = np.array([[6.1,0.32,1.3,2.1,0.11],\n",
    "              [0.82,8.81,1.01,3.,3.12],\n",
    "              [0.5,1.78,15.2,4.2,8.1],\n",
    "              [4.2,5.3,1.8,20.9,7.51],\n",
    "              [0.2,9.1,4.68,4.3,20.1]])\n",
    "    \n",
    "b = np.array([19.52, 15.83, -22.14, 27.28, -21.78])\n",
    "\n",
    "print (gaussElimin(A,b), \"\\n\\n ---------------- \\n Metodo iterativo Jacobi-Richardson\")\n",
    "\n",
    "#A mesma matriz da questão\n",
    "N = np.array([[6.1,0.32,1.3,2.1,0.11,19.52],\n",
    "              [0.82,8.81,1.01,3.,3.12,15.83],\n",
    "              [0.5,1.78,15.2,4.2,8.1,-22.14],\n",
    "              [4.2,5.3,1.8,20.9,7.51,27.28],\n",
    "              [0.2,9.1,4.68,4.3,20.1,-21.78]])\n",
    "\n",
    "x = [0,0,0,0,0]\n",
    "\n",
    "x1 = lambda x2, x3, x4, x5: (N[0][5] -N[0][1]*x2 -N[0][2]*x3 -N[0][3]*x4 -N[0][4]*x5)/N[0][0]\n",
    "    \n",
    "x2 = lambda x1, x3, x4, x5: (N[1][5] -N[1][0]*x1 -N[1][2]*x3 -N[1][3]*x4 -N[1][4]*x5)/N[1][1]\n",
    "\n",
    "x3 = lambda x2, x1, x4, x5: (N[2][5] -N[2][0]*x1 -N[2][1]*x2 -N[2][3]*x4 -N[2][4]*x5)/N[2][2]\n",
    "\n",
    "x4 = lambda x2, x3, x1, x5: (N[3][5] -N[3][0]*x1 -N[3][1]*x2 -N[3][2]*x3 -N[3][4]*x5)/N[3][3]\n",
    "    \n",
    "x5 = lambda x2, x3, x4, x1: (N[4][5] -N[4][0]*x1 -N[4][1]*x2 -N[4][2]*x3 -N[4][3]*x4)/N[4][4]\n",
    "\n",
    "\n",
    "for k in range(100):\n",
    "     x = [x1(x[1],x[2],x[3],x[4]), x2(x[0],x[2],x[3],x[4]), x3(x[0],x[1],x[3],x[4]), x4(x[0],x[1],x[2],x[4]), x5(x[0],x[1],x[2],x[3])]\n",
    "print (\"(%.4f,\"%x[0],\"%.4f,\"%x[1],\"%.4f,\"%x[2],\"%.4f,\"%x[3],\"%.4f)\"%x[4])"
   ]
  },
  {
   "cell_type": "markdown",
   "metadata": {},
   "source": [
    "**Observações**: Como é possível verificar, o método iterativo de Jacobi-Richardson se faz mais preciso. Como é possível perceber, o método da Eliminação de Gauss disponibilizou apenas números com precisão de uma casa decimal, enquanto que o método de Jacobi-Richardson disponibilizou valores mais precisos. Vale destacar os valores que mais variaram entre os dois métodos, sendo x1, x4 e x5."
   ]
  },
  {
   "cell_type": "markdown",
   "metadata": {},
   "source": [
    "---\n",
    "## Questão 5\n",
    "O método das diferenças finitas transforma a equação diferencial ordinária\n",
    "$$y^{n} + x^{2}y^{'} - 4xy = 0, x ∈ [0,1]$$\n",
    "$$y(0) = 0, y(1) = 5$$\n",
    "em um sistema de equações lineares da forma\n",
    "\n",
    "$(2 - k^{2}h^{3})_{yk-1} - 4(1+2kh^{3})_{yk} + (2 + k^{2}h^{3})_{yk+1} = 0$\n",
    "\n",
    "com $k = 1,2,...,(n-1), h = 1/n, y_{0} = 0 e y_{n} = 5.$\n",
    "\n",
    "Sabendo disso, faça $n = 5$ e monte o sistema linear associado. Então, resolva numericamente o usando algum método iterativo e compare a solução numérica com a solução analítica exata \n",
    "$y(x) = x^{4} + 4x.$"
   ]
  },
  {
   "cell_type": "code",
   "execution_count": 6,
   "metadata": {},
   "outputs": [
    {
     "name": "stdout",
     "output_type": "stream",
     "text": [
      "y 0 = 0.6541\n",
      "y 1 = 1.4996\n",
      "y 2 = 2.4603\n",
      "y 3 = 3.5822\n",
      "x = 0.2 valor real: 0.8016 ,aproximação: 0.8082 ,erro absoluto: 0.006599999999999939\n",
      "x = 0.4 valor real: 1.6256 ,aproximação: 1.6358 ,erro absoluto: 0.010199999999999765\n",
      "x = 0.6 valor real: 2.5296 ,aproximação: 2.5403 ,erro absoluto: 0.010699999999999488\n",
      "x = 0.8 valor real: 3.6096 ,aproximação: 3.6173 ,erro absoluto: 0.007699999999999818\n"
     ]
    }
   ],
   "source": [
    "import numpy as np\n",
    "\n",
    "#Define os valores das marizes e cria uma matriz x auxiliar com todos os termos setados em 0 \n",
    "A = np.array([[-4.604,2.008,0.,0.],\n",
    "              [1.968,-4.192,2.032,0.],\n",
    "              [0,1.928,-4.192,2.072],\n",
    "              [0.,0.,1.872,-4.256]])\n",
    "\n",
    "b = np.array([0,0,0,-10.64])\n",
    "\n",
    "x = np.array([0.,0.,0.,0.])\n",
    "#Faz uma cópia da matriz x\n",
    "x_ant = x.copy()\n",
    "\n",
    "\n",
    "n = len(A)\n",
    "#calcula o valor de x[i]\n",
    "for k in range(30):\n",
    "    for i in range(n):\n",
    "        x[i] = (b[i] - np.dot(A[i,0:i],x[0:i])-np.dot(A[i,i+1:n],x[i+1:n]))/A[i,i]\n",
    "\n",
    "it = 0\n",
    "while(it < len(x)):\n",
    "    #printa valor de y(i)\n",
    "    print(\"y\",it,\"=\",np.around(x[it],4),)\n",
    "    it = it+1\n",
    "\n",
    "def y(x):\n",
    "    return x**4 + 4*x\n",
    "\n",
    "X = np.array([0.8082, 1.6358, 2.5403, 3.6173])\n",
    "it = 0.2\n",
    "k = 0\n",
    "while(it <= 0.8):\n",
    "    a = X[k]\n",
    "    b = y(it)\n",
    "    print(\"x =\", np.round(it,1), \"valor real:\", np.round(b,4), \",aproximação:\",a,\",erro absoluto:\", abs(b-a))\n",
    "    it = it+0.2\n",
    "    k = k+1"
   ]
  },
  {
   "cell_type": "markdown",
   "metadata": {},
   "source": [
    "**Observações**: é possível perceber discrepâncias nos valores obtidos, se comparados com os dados encontrados pela solução analítica exata. Porém, o erro é bem pequeno, onde o maior erro está próximo de $10^{-2}$"
   ]
  }
 ],
 "metadata": {
  "kernelspec": {
   "display_name": "Python 3",
   "language": "python",
   "name": "python3"
  },
  "language_info": {
   "codemirror_mode": {
    "name": "ipython",
    "version": 3
   },
   "file_extension": ".py",
   "mimetype": "text/x-python",
   "name": "python",
   "nbconvert_exporter": "python",
   "pygments_lexer": "ipython3",
   "version": "3.7.3"
  }
 },
 "nbformat": 4,
 "nbformat_minor": 2
}
